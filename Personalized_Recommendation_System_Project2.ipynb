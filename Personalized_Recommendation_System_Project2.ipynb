{
 "cells": [
  {
   "cell_type": "markdown",
   "id": "60dce22a-e783-48ea-8979-342e89a6758b",
   "metadata": {},
   "source": [
    "# Import Required Libraries"
   ]
  },
  {
   "cell_type": "code",
   "execution_count": 2,
   "id": "74b89085-9f3d-42c5-b6cf-20ddac7d212e",
   "metadata": {},
   "outputs": [],
   "source": [
    "import pandas as pd\n",
    "import numpy as np\n",
    "import seaborn as sns\n",
    "import matplotlib.pyplot as plt\n",
    "from sklearn.preprocessing import MinMaxScaler\n",
    "from sklearn.feature_extraction.text import TfidfVectorizer\n",
    "from sklearn.metrics.pairwise import linear_kernel\n",
    "from sklearn.metrics.pairwise import cosine_similarity\n",
    "from surprise import Dataset, Reader\n",
    "from surprise.model_selection import train_test_split\n",
    "from surprise import KNNBasic\n",
    "from surprise import accuracy\n",
    "from collections import Counter\n",
    "import os\n",
    "import joblib"
   ]
  },
  {
   "cell_type": "markdown",
   "id": "9727dd96-00c0-4ba6-ae69-b671c2b30e31",
   "metadata": {},
   "source": [
    "# Collect and Load Dataset,  Data Cleaning & Preprocessing"
   ]
  },
  {
   "cell_type": "code",
   "execution_count": 4,
   "id": "d7b3227b-bdec-4cd7-a6a8-0dea51b53632",
   "metadata": {},
   "outputs": [],
   "source": [
    "movies = pd.read_csv(r\"Personalized_Recommendation_System_Project/ml-25m/movies.csv\")\n",
    "ratings = pd.read_csv(r\"Personalized_Recommendation_System_Project/ml-25m/ratings.csv\")\n",
    "tags = pd.read_csv(r\"Personalized_Recommendation_System_Project/ml-25m/tags.csv\")\n",
    "genome_scores = pd.read_csv(r\"Personalized_Recommendation_System_Project/ml-25m/genome-scores.csv\")\n",
    "genome_tags = pd.read_csv(r\"Personalized_Recommendation_System_Project/ml-25m/genome-tags.csv\")\n",
    "links = pd.read_csv(r\"Personalized_Recommendation_System_Project/ml-25m/links.csv\")"
   ]
  },
  {
   "cell_type": "code",
   "execution_count": 5,
   "id": "ffb91d4c-12d0-46e9-b0e3-739c9bd253ff",
   "metadata": {},
   "outputs": [
    {
     "data": {
      "text/html": [
       "<div>\n",
       "<style scoped>\n",
       "    .dataframe tbody tr th:only-of-type {\n",
       "        vertical-align: middle;\n",
       "    }\n",
       "\n",
       "    .dataframe tbody tr th {\n",
       "        vertical-align: top;\n",
       "    }\n",
       "\n",
       "    .dataframe thead th {\n",
       "        text-align: right;\n",
       "    }\n",
       "</style>\n",
       "<table border=\"1\" class=\"dataframe\">\n",
       "  <thead>\n",
       "    <tr style=\"text-align: right;\">\n",
       "      <th></th>\n",
       "      <th>movieId</th>\n",
       "      <th>title</th>\n",
       "      <th>genres</th>\n",
       "    </tr>\n",
       "  </thead>\n",
       "  <tbody>\n",
       "    <tr>\n",
       "      <th>0</th>\n",
       "      <td>1</td>\n",
       "      <td>Toy Story (1995)</td>\n",
       "      <td>Adventure|Animation|Children|Comedy|Fantasy</td>\n",
       "    </tr>\n",
       "    <tr>\n",
       "      <th>1</th>\n",
       "      <td>2</td>\n",
       "      <td>Jumanji (1995)</td>\n",
       "      <td>Adventure|Children|Fantasy</td>\n",
       "    </tr>\n",
       "    <tr>\n",
       "      <th>2</th>\n",
       "      <td>3</td>\n",
       "      <td>Grumpier Old Men (1995)</td>\n",
       "      <td>Comedy|Romance</td>\n",
       "    </tr>\n",
       "    <tr>\n",
       "      <th>3</th>\n",
       "      <td>4</td>\n",
       "      <td>Waiting to Exhale (1995)</td>\n",
       "      <td>Comedy|Drama|Romance</td>\n",
       "    </tr>\n",
       "    <tr>\n",
       "      <th>4</th>\n",
       "      <td>5</td>\n",
       "      <td>Father of the Bride Part II (1995)</td>\n",
       "      <td>Comedy</td>\n",
       "    </tr>\n",
       "  </tbody>\n",
       "</table>\n",
       "</div>"
      ],
      "text/plain": [
       "   movieId                               title  \\\n",
       "0        1                    Toy Story (1995)   \n",
       "1        2                      Jumanji (1995)   \n",
       "2        3             Grumpier Old Men (1995)   \n",
       "3        4            Waiting to Exhale (1995)   \n",
       "4        5  Father of the Bride Part II (1995)   \n",
       "\n",
       "                                        genres  \n",
       "0  Adventure|Animation|Children|Comedy|Fantasy  \n",
       "1                   Adventure|Children|Fantasy  \n",
       "2                               Comedy|Romance  \n",
       "3                         Comedy|Drama|Romance  \n",
       "4                                       Comedy  "
      ]
     },
     "execution_count": 5,
     "metadata": {},
     "output_type": "execute_result"
    }
   ],
   "source": [
    "movies.head()"
   ]
  },
  {
   "cell_type": "code",
   "execution_count": 6,
   "id": "9bd546c3-4d08-4ed4-a6b6-37b9719fb8f0",
   "metadata": {},
   "outputs": [
    {
     "data": {
      "text/html": [
       "<div>\n",
       "<style scoped>\n",
       "    .dataframe tbody tr th:only-of-type {\n",
       "        vertical-align: middle;\n",
       "    }\n",
       "\n",
       "    .dataframe tbody tr th {\n",
       "        vertical-align: top;\n",
       "    }\n",
       "\n",
       "    .dataframe thead th {\n",
       "        text-align: right;\n",
       "    }\n",
       "</style>\n",
       "<table border=\"1\" class=\"dataframe\">\n",
       "  <thead>\n",
       "    <tr style=\"text-align: right;\">\n",
       "      <th></th>\n",
       "      <th>userId</th>\n",
       "      <th>movieId</th>\n",
       "      <th>rating</th>\n",
       "      <th>timestamp</th>\n",
       "    </tr>\n",
       "  </thead>\n",
       "  <tbody>\n",
       "    <tr>\n",
       "      <th>0</th>\n",
       "      <td>1</td>\n",
       "      <td>296</td>\n",
       "      <td>5.0</td>\n",
       "      <td>1147880044</td>\n",
       "    </tr>\n",
       "    <tr>\n",
       "      <th>1</th>\n",
       "      <td>1</td>\n",
       "      <td>306</td>\n",
       "      <td>3.5</td>\n",
       "      <td>1147868817</td>\n",
       "    </tr>\n",
       "    <tr>\n",
       "      <th>2</th>\n",
       "      <td>1</td>\n",
       "      <td>307</td>\n",
       "      <td>5.0</td>\n",
       "      <td>1147868828</td>\n",
       "    </tr>\n",
       "    <tr>\n",
       "      <th>3</th>\n",
       "      <td>1</td>\n",
       "      <td>665</td>\n",
       "      <td>5.0</td>\n",
       "      <td>1147878820</td>\n",
       "    </tr>\n",
       "    <tr>\n",
       "      <th>4</th>\n",
       "      <td>1</td>\n",
       "      <td>899</td>\n",
       "      <td>3.5</td>\n",
       "      <td>1147868510</td>\n",
       "    </tr>\n",
       "  </tbody>\n",
       "</table>\n",
       "</div>"
      ],
      "text/plain": [
       "   userId  movieId  rating   timestamp\n",
       "0       1      296     5.0  1147880044\n",
       "1       1      306     3.5  1147868817\n",
       "2       1      307     5.0  1147868828\n",
       "3       1      665     5.0  1147878820\n",
       "4       1      899     3.5  1147868510"
      ]
     },
     "execution_count": 6,
     "metadata": {},
     "output_type": "execute_result"
    }
   ],
   "source": [
    "ratings.head()"
   ]
  },
  {
   "cell_type": "code",
   "execution_count": 7,
   "id": "ba6988de-fc7a-4b55-a907-f9fca7849244",
   "metadata": {},
   "outputs": [
    {
     "name": "stdout",
     "output_type": "stream",
     "text": [
      "Missing values in movies:\n",
      "movieId    0\n",
      "title      0\n",
      "genres     0\n",
      "dtype: int64 \n",
      "\n",
      "Missing values in ratings:\n",
      "userId       0\n",
      "movieId      0\n",
      "rating       0\n",
      "timestamp    0\n",
      "dtype: int64 \n",
      "\n",
      "Missing values in tags:\n",
      "userId        0\n",
      "movieId       0\n",
      "tag          16\n",
      "timestamp     0\n",
      "dtype: int64 \n",
      "\n",
      "Missing values in genome_scores:\n",
      "movieId      0\n",
      "tagId        0\n",
      "relevance    0\n",
      "dtype: int64 \n",
      "\n",
      "Missing values in genome_tags:\n",
      "tagId    0\n",
      "tag      0\n",
      "dtype: int64 \n",
      "\n",
      "Missing values in links:\n",
      "movieId      0\n",
      "imdbId       0\n",
      "tmdbId     107\n",
      "dtype: int64 \n",
      "\n"
     ]
    }
   ],
   "source": [
    "### Check Missing Values\n",
    "datasets = {\n",
    "    \"movies\": movies,\n",
    "    \"ratings\": ratings,\n",
    "    \"tags\": tags,\n",
    "    \"genome_scores\": genome_scores,\n",
    "    \"genome_tags\": genome_tags,\n",
    "    \"links\": links\n",
    "}\n",
    "\n",
    "for name, df in datasets.items():\n",
    "    print(f\"Missing values in {name}:\")\n",
    "    print(df.isnull().sum(), \"\\n\")"
   ]
  },
  {
   "cell_type": "code",
   "execution_count": 8,
   "id": "f447c680-4087-432c-ba28-3f22ad084356",
   "metadata": {},
   "outputs": [
    {
     "name": "stdout",
     "output_type": "stream",
     "text": [
      "Cleaned movies - shape: (62423, 3)\n",
      "Cleaned ratings - shape: (25000095, 4)\n",
      "Cleaned tags - shape: (1093344, 4)\n",
      "Cleaned genome_scores - shape: (15584448, 3)\n",
      "Cleaned genome_tags - shape: (1128, 2)\n",
      "Cleaned links - shape: (62316, 3)\n"
     ]
    }
   ],
   "source": [
    "###  Drop Rows with Missing Values\n",
    "for name, df in datasets.items():\n",
    "    datasets[name] = df.dropna()\n",
    "    print(f\"Cleaned {name} - shape: {datasets[name].shape}\")"
   ]
  },
  {
   "cell_type": "code",
   "execution_count": 10,
   "id": "d4cff2d0-cfe2-4dd9-9c4e-9fe80fef4241",
   "metadata": {},
   "outputs": [
    {
     "name": "stdout",
     "output_type": "stream",
     "text": [
      "📌 Saved: Documents/Personalized_Recommendation_System_Project\\movies_cleaned.csv\n",
      "📌 Saved: Documents/Personalized_Recommendation_System_Project\\ratings_cleaned.csv\n",
      "📌 Saved: Documents/Personalized_Recommendation_System_Project\\tags_cleaned.csv\n",
      "📌 Saved: Documents/Personalized_Recommendation_System_Project\\genome_scores_cleaned.csv\n",
      "📌 Saved: Documents/Personalized_Recommendation_System_Project\\genome_tags_cleaned.csv\n",
      "📌 Saved: Documents/Personalized_Recommendation_System_Project\\links_cleaned.csv\n"
     ]
    }
   ],
   "source": [
    "### To save these cleaned datasets\n",
    "# Define the folder to save the cleaned data\n",
    "output_path = \"Personalized_Recommendation_System_Project\"\n",
    "os.makedirs(output_path, exist_ok=True)\n",
    "\n",
    "# Save each cleaned DataFrame to CSV\n",
    "for name, df in datasets.items():\n",
    "    file_path = os.path.join(output_path, f\"{name}_cleaned.csv\")\n",
    "    df.to_csv(file_path, index=False)\n",
    "    print(f\"📌 Saved: {file_path}\")"
   ]
  },
  {
   "cell_type": "code",
   "execution_count": 11,
   "id": "d046b01a-edc5-4451-aeb0-5579994fb114",
   "metadata": {},
   "outputs": [],
   "source": [
    "### Convert TimeStamps in Ratings and Tags\n",
    "# Convert Ratings timestamp column safely\n",
    "ratings_timestamp = pd.to_datetime(datasets['ratings']['timestamp'], unit='s')\n",
    "datasets['ratings'] = datasets['ratings'].copy()\n",
    "datasets['ratings']['timestamp'] = ratings_timestamp\n",
    "\n",
    "# Convert Tags timestamp\n",
    "tags_timestamp = pd.to_datetime(datasets['tags']['timestamp'], unit='s')\n",
    "datasets['tags'] = datasets['tags'].copy()\n",
    "datasets['tags']['timestamp'] = tags_timestamp"
   ]
  },
  {
   "cell_type": "code",
   "execution_count": 12,
   "id": "1ddf1e37-7919-4016-b248-30d101ab69a5",
   "metadata": {},
   "outputs": [
    {
     "data": {
      "text/html": [
       "<div>\n",
       "<style scoped>\n",
       "    .dataframe tbody tr th:only-of-type {\n",
       "        vertical-align: middle;\n",
       "    }\n",
       "\n",
       "    .dataframe tbody tr th {\n",
       "        vertical-align: top;\n",
       "    }\n",
       "\n",
       "    .dataframe thead th {\n",
       "        text-align: right;\n",
       "    }\n",
       "</style>\n",
       "<table border=\"1\" class=\"dataframe\">\n",
       "  <thead>\n",
       "    <tr style=\"text-align: right;\">\n",
       "      <th></th>\n",
       "      <th>userId</th>\n",
       "      <th>movieId</th>\n",
       "      <th>rating</th>\n",
       "      <th>normalized_rating</th>\n",
       "    </tr>\n",
       "  </thead>\n",
       "  <tbody>\n",
       "    <tr>\n",
       "      <th>0</th>\n",
       "      <td>1</td>\n",
       "      <td>296</td>\n",
       "      <td>5.0</td>\n",
       "      <td>1.000000</td>\n",
       "    </tr>\n",
       "    <tr>\n",
       "      <th>1</th>\n",
       "      <td>1</td>\n",
       "      <td>306</td>\n",
       "      <td>3.5</td>\n",
       "      <td>0.666667</td>\n",
       "    </tr>\n",
       "    <tr>\n",
       "      <th>2</th>\n",
       "      <td>1</td>\n",
       "      <td>307</td>\n",
       "      <td>5.0</td>\n",
       "      <td>1.000000</td>\n",
       "    </tr>\n",
       "    <tr>\n",
       "      <th>3</th>\n",
       "      <td>1</td>\n",
       "      <td>665</td>\n",
       "      <td>5.0</td>\n",
       "      <td>1.000000</td>\n",
       "    </tr>\n",
       "    <tr>\n",
       "      <th>4</th>\n",
       "      <td>1</td>\n",
       "      <td>899</td>\n",
       "      <td>3.5</td>\n",
       "      <td>0.666667</td>\n",
       "    </tr>\n",
       "  </tbody>\n",
       "</table>\n",
       "</div>"
      ],
      "text/plain": [
       "   userId  movieId  rating  normalized_rating\n",
       "0       1      296     5.0           1.000000\n",
       "1       1      306     3.5           0.666667\n",
       "2       1      307     5.0           1.000000\n",
       "3       1      665     5.0           1.000000\n",
       "4       1      899     3.5           0.666667"
      ]
     },
     "execution_count": 12,
     "metadata": {},
     "output_type": "execute_result"
    }
   ],
   "source": [
    "### Normalize Ratings (0–1 scale)\n",
    "scaler = MinMaxScaler()\n",
    "ratings['normalized_rating'] = scaler.fit_transform(ratings[['rating']])\n",
    "\n",
    "# Preview\n",
    "ratings[['userId', 'movieId', 'rating', 'normalized_rating']].head()"
   ]
  },
  {
   "cell_type": "code",
   "execution_count": 13,
   "id": "33651367-d934-41e7-b5ed-f0bb2bd91ade",
   "metadata": {},
   "outputs": [
    {
     "name": "stdout",
     "output_type": "stream",
     "text": [
      "['userId', 'movieId', 'rating', 'timestamp']\n"
     ]
    }
   ],
   "source": [
    "datasets['ratings'].drop(columns=['normalized_rating'], inplace=True, errors='ignore')\n",
    "print(datasets['ratings'].columns.tolist())"
   ]
  },
  {
   "cell_type": "code",
   "execution_count": 14,
   "id": "6fda1f57-adb0-4e10-89d1-e8c090bf5e54",
   "metadata": {},
   "outputs": [
    {
     "data": {
      "text/html": [
       "<div>\n",
       "<style scoped>\n",
       "    .dataframe tbody tr th:only-of-type {\n",
       "        vertical-align: middle;\n",
       "    }\n",
       "\n",
       "    .dataframe tbody tr th {\n",
       "        vertical-align: top;\n",
       "    }\n",
       "\n",
       "    .dataframe thead th {\n",
       "        text-align: right;\n",
       "    }\n",
       "</style>\n",
       "<table border=\"1\" class=\"dataframe\">\n",
       "  <thead>\n",
       "    <tr style=\"text-align: right;\">\n",
       "      <th></th>\n",
       "      <th>userId</th>\n",
       "      <th>movieId</th>\n",
       "      <th>rating</th>\n",
       "      <th>timestamp</th>\n",
       "      <th>normalized_rating</th>\n",
       "      <th>title</th>\n",
       "      <th>genres</th>\n",
       "    </tr>\n",
       "  </thead>\n",
       "  <tbody>\n",
       "    <tr>\n",
       "      <th>0</th>\n",
       "      <td>1</td>\n",
       "      <td>296</td>\n",
       "      <td>5.0</td>\n",
       "      <td>1147880044</td>\n",
       "      <td>1.000000</td>\n",
       "      <td>Pulp Fiction (1994)</td>\n",
       "      <td>Comedy|Crime|Drama|Thriller</td>\n",
       "    </tr>\n",
       "    <tr>\n",
       "      <th>1</th>\n",
       "      <td>1</td>\n",
       "      <td>306</td>\n",
       "      <td>3.5</td>\n",
       "      <td>1147868817</td>\n",
       "      <td>0.666667</td>\n",
       "      <td>Three Colors: Red (Trois couleurs: Rouge) (1994)</td>\n",
       "      <td>Drama</td>\n",
       "    </tr>\n",
       "    <tr>\n",
       "      <th>2</th>\n",
       "      <td>1</td>\n",
       "      <td>307</td>\n",
       "      <td>5.0</td>\n",
       "      <td>1147868828</td>\n",
       "      <td>1.000000</td>\n",
       "      <td>Three Colors: Blue (Trois couleurs: Bleu) (1993)</td>\n",
       "      <td>Drama</td>\n",
       "    </tr>\n",
       "    <tr>\n",
       "      <th>3</th>\n",
       "      <td>1</td>\n",
       "      <td>665</td>\n",
       "      <td>5.0</td>\n",
       "      <td>1147878820</td>\n",
       "      <td>1.000000</td>\n",
       "      <td>Underground (1995)</td>\n",
       "      <td>Comedy|Drama|War</td>\n",
       "    </tr>\n",
       "    <tr>\n",
       "      <th>4</th>\n",
       "      <td>1</td>\n",
       "      <td>899</td>\n",
       "      <td>3.5</td>\n",
       "      <td>1147868510</td>\n",
       "      <td>0.666667</td>\n",
       "      <td>Singin' in the Rain (1952)</td>\n",
       "      <td>Comedy|Musical|Romance</td>\n",
       "    </tr>\n",
       "  </tbody>\n",
       "</table>\n",
       "</div>"
      ],
      "text/plain": [
       "   userId  movieId  rating   timestamp  normalized_rating  \\\n",
       "0       1      296     5.0  1147880044           1.000000   \n",
       "1       1      306     3.5  1147868817           0.666667   \n",
       "2       1      307     5.0  1147868828           1.000000   \n",
       "3       1      665     5.0  1147878820           1.000000   \n",
       "4       1      899     3.5  1147868510           0.666667   \n",
       "\n",
       "                                              title  \\\n",
       "0                               Pulp Fiction (1994)   \n",
       "1  Three Colors: Red (Trois couleurs: Rouge) (1994)   \n",
       "2  Three Colors: Blue (Trois couleurs: Bleu) (1993)   \n",
       "3                                Underground (1995)   \n",
       "4                        Singin' in the Rain (1952)   \n",
       "\n",
       "                        genres  \n",
       "0  Comedy|Crime|Drama|Thriller  \n",
       "1                        Drama  \n",
       "2                        Drama  \n",
       "3             Comedy|Drama|War  \n",
       "4       Comedy|Musical|Romance  "
      ]
     },
     "execution_count": 14,
     "metadata": {},
     "output_type": "execute_result"
    }
   ],
   "source": [
    "### Merge Ratings with Movies for Analysis and Visualization\n",
    "ratings_movies = pd.merge(ratings, movies, on=\"movieId\")\n",
    "ratings_movies.head()"
   ]
  },
  {
   "cell_type": "code",
   "execution_count": 15,
   "id": "77f69dad-9fef-42e3-beca-46817a7c023c",
   "metadata": {},
   "outputs": [],
   "source": [
    "# File path and save the cleaned DataFrame\n",
    "output_path = \"Personalized_Recommendation_System_Project\"\n",
    "os.makedirs(output_path, exist_ok=True)\n",
    "\n",
    "csv_file_path = os.path.join(output_path, \"cleaned_ratings_movies.csv\")\n",
    "ratings_movies.to_csv(csv_file_path, index=False)"
   ]
  },
  {
   "cell_type": "code",
   "execution_count": 16,
   "id": "5bab3685-ee32-49cf-aea5-38327ff466f7",
   "metadata": {},
   "outputs": [
    {
     "name": "stdout",
     "output_type": "stream",
     "text": [
      "📌 Cleaned file saved to: Documents/Personalized_Recommendation_System_Project\\cleaned_ratings_movies.csv\n",
      "\n",
      "💿 Sample of cleaned data:\n",
      "   userId  movieId  rating   timestamp  normalized_rating  \\\n",
      "0       1      296     5.0  1147880044           1.000000   \n",
      "1       1      306     3.5  1147868817           0.666667   \n",
      "2       1      307     5.0  1147868828           1.000000   \n",
      "3       1      665     5.0  1147878820           1.000000   \n",
      "4       1      899     3.5  1147868510           0.666667   \n",
      "\n",
      "                                              title  \\\n",
      "0                               Pulp Fiction (1994)   \n",
      "1  Three Colors: Red (Trois couleurs: Rouge) (1994)   \n",
      "2  Three Colors: Blue (Trois couleurs: Bleu) (1993)   \n",
      "3                                Underground (1995)   \n",
      "4                        Singin' in the Rain (1952)   \n",
      "\n",
      "                        genres  \n",
      "0  Comedy|Crime|Drama|Thriller  \n",
      "1                        Drama  \n",
      "2                        Drama  \n",
      "3             Comedy|Drama|War  \n",
      "4       Comedy|Musical|Romance  \n"
     ]
    }
   ],
   "source": [
    "# Saved and show first few rows\n",
    "print(f\"📌 Cleaned file saved to: {csv_file_path}\")\n",
    "print(\"\\n💿 Sample of cleaned data:\")\n",
    "print(ratings_movies.head())"
   ]
  },
  {
   "cell_type": "code",
   "execution_count": 17,
   "id": "b199d42f-fafb-4314-8721-7ac0bf10ac7b",
   "metadata": {},
   "outputs": [
    {
     "name": "stdout",
     "output_type": "stream",
     "text": [
      "📌 Dataset Overview:\n",
      "🙋‍♂️ Total unique users:  162541\n",
      "📽️ Total unique movies: 59047\n",
      "⭐ Average rating:       3.53\n",
      "📮 Total ratings:        25000095\n"
     ]
    }
   ],
   "source": [
    "# EDA – Explore User-Item Interactions\n",
    "##  Number of Unique Users and Movies\n",
    "print(\"📌 Dataset Overview:\")\n",
    "print(f\"🙋‍♂️ Total unique users:  {ratings_movies['userId'].nunique()}\")\n",
    "print(f\"📽️ Total unique movies: {ratings_movies['movieId'].nunique()}\")\n",
    "print(f\"⭐ Average rating:       {round(ratings_movies['rating'].mean(), 2)}\")\n",
    "print(f\"📮 Total ratings:        {ratings_movies.shape[0]}\")"
   ]
  },
  {
   "cell_type": "code",
   "execution_count": 18,
   "id": "263d2bee-c6c7-4250-9802-62dcf960e057",
   "metadata": {},
   "outputs": [
    {
     "data": {
      "image/png": "[encoded data removed]",
      "text/plain": [
       "<Figure size 800x400 with 1 Axes>"
      ]
     },
     "metadata": {},
     "output_type": "display_data"
    }
   ],
   "source": [
    "### EDA to Understand User_Item Interactions\n",
    "#  1.  Distribution of Ratings\n",
    "plt.figure(figsize=(8, 4))\n",
    "sns.histplot(ratings_movies['rating'], bins=9, kde=True)\n",
    "plt.title(\"Distribution of Ratings\")\n",
    "plt.xlabel(\"Rating\")\n",
    "plt.ylabel(\"Frequency\")\n",
    "plt.grid(True)\n",
    "plt.show()"
   ]
  },
  {
   "cell_type": "code",
   "execution_count": 19,
   "id": "4aa7a2ff-1192-426d-8a6c-ae231e64e824",
   "metadata": {},
   "outputs": [
    {
     "data": {
      "image/png": "[encoded data removed]",
      "text/plain": [
       "<Figure size 640x480 with 1 Axes>"
      ]
     },
     "metadata": {},
     "output_type": "display_data"
    }
   ],
   "source": [
    "###  Most Rated Movies\n",
    "top_movies = ratings_movies['title'].value_counts().head(10)\n",
    "top_movies.plot(kind='barh', title='Top 10 Most Rated Movies')\n",
    "plt.gca().invert_yaxis()\n",
    "plt.xlabel(\"Number of Ratings\")\n",
    "plt.tight_layout()\n",
    "plt.show()"
   ]
  },
  {
   "cell_type": "code",
   "execution_count": 20,
   "id": "21b215bb-aa3f-4eef-b19c-1a7b8a70f65f",
   "metadata": {},
   "outputs": [
    {
     "data": {
      "image/png": "[encoded data removed]",
      "text/plain": [
       "<Figure size 1000x500 with 1 Axes>"
      ]
     },
     "metadata": {},
     "output_type": "display_data"
    }
   ],
   "source": [
    "# 2.  Ratings per Movie\n",
    "movie_rating_counts = ratings_movies.groupby('movieId')['rating'].count()\n",
    "\n",
    "plt.figure(figsize=(10, 5))\n",
    "sns.histplot(movie_rating_counts, bins=100, log_scale=True, color='orange')\n",
    "plt.title('Ratings per Movie (Log Scale)')\n",
    "plt.xlabel('Number of Ratings')\n",
    "plt.ylabel('Movie Count')\n",
    "plt.show()"
   ]
  },
  {
   "cell_type": "code",
   "execution_count": 21,
   "id": "b8070ac9-9561-4224-884f-b9591c20a705",
   "metadata": {},
   "outputs": [
    {
     "data": {
      "image/png": "[encoded data removed]",
      "text/plain": [
       "<Figure size 1000x500 with 1 Axes>"
      ]
     },
     "metadata": {},
     "output_type": "display_data"
    }
   ],
   "source": [
    "# 3.  Ratings per User\n",
    "user_rating_counts = ratings_movies.groupby('userId')['rating'].count()\n",
    "\n",
    "plt.figure(figsize=(10, 5))\n",
    "sns.histplot(user_rating_counts, bins=100, log_scale=True, color='purple')\n",
    "plt.title('Ratings per User (Log Scale)')\n",
    "plt.xlabel('Number of Ratings')\n",
    "plt.ylabel('User Count')\n",
    "plt.show()"
   ]
  },
  {
   "cell_type": "code",
   "execution_count": 22,
   "id": "98220b46-9809-4ca7-83b6-76c7e4018fa3",
   "metadata": {},
   "outputs": [
    {
     "name": "stderr",
     "output_type": "stream",
     "text": [
      "C:\\Users\\anand\\AppData\\Local\\Temp\\ipykernel_16924\\332727002.py:5: FutureWarning: \n",
      "\n",
      "Passing `palette` without assigning `hue` is deprecated and will be removed in v0.14.0. Assign the `y` variable to `hue` and set `legend=False` for the same effect.\n",
      "\n",
      "  sns.barplot(x=top_movies.values, y=top_movies.index, palette='viridis')\n"
     ]
    },
    {
     "data": {
      "image/png": "[encoded data removed]",
      "text/plain": [
       "<Figure size 1000x600 with 1 Axes>"
      ]
     },
     "metadata": {},
     "output_type": "display_data"
    }
   ],
   "source": [
    "# 4.  Top 10 Most Rated Movies\n",
    "top_movies = ratings_movies['title'].value_counts().head(10)\n",
    "\n",
    "plt.figure(figsize=(10, 6))\n",
    "sns.barplot(x=top_movies.values, y=top_movies.index, palette='viridis')\n",
    "plt.title('Top 10 Most Rated Movies')\n",
    "plt.xlabel('Number of Ratings')\n",
    "plt.ylabel('Movie Title')\n",
    "plt.show()"
   ]
  },
  {
   "cell_type": "code",
   "execution_count": 23,
   "id": "87b8c4b9-78a3-41df-9558-8d9ff5c91d43",
   "metadata": {},
   "outputs": [
    {
     "name": "stderr",
     "output_type": "stream",
     "text": [
      "C:\\Users\\anand\\AppData\\Local\\Temp\\ipykernel_16924\\2749248384.py:11: FutureWarning: \n",
      "\n",
      "Passing `palette` without assigning `hue` is deprecated and will be removed in v0.14.0. Assign the `y` variable to `hue` and set `legend=False` for the same effect.\n",
      "\n",
      "  sns.barplot(x=top_rated['average_rating'], y=top_rated.index, palette='coolwarm')\n"
     ]
    },
    {
     "data": {
      "image/png": "[encoded data removed]",
      "text/plain": [
       "<Figure size 1000x600 with 1 Axes>"
      ]
     },
     "metadata": {},
     "output_type": "display_data"
    }
   ],
   "source": [
    "# 5.  Top 10 Highest Rated Popular Movies (1000+ Ratings)\n",
    "movie_stats = ratings_movies.groupby('title').agg(\n",
    "    average_rating=('rating', 'mean'),\n",
    "    rating_count=('rating', 'count')\n",
    ")\n",
    "\n",
    "popular = movie_stats[movie_stats['rating_count'] >= 1000]\n",
    "top_rated = popular.sort_values('average_rating', ascending=False).head(10)\n",
    "\n",
    "plt.figure(figsize=(10, 6))\n",
    "sns.barplot(x=top_rated['average_rating'], y=top_rated.index, palette='coolwarm')\n",
    "plt.title('Top 10 Highest Rated Movies (Min 1000 Ratings)')\n",
    "plt.xlabel('Average Rating')\n",
    "plt.ylabel('Movie Title')\n",
    "plt.show()"
   ]
  },
  {
   "cell_type": "code",
   "execution_count": 24,
   "id": "cf682336-77f4-4590-bb49-89de5131d751",
   "metadata": {},
   "outputs": [
    {
     "name": "stderr",
     "output_type": "stream",
     "text": [
      "C:\\Users\\anand\\AppData\\Local\\Temp\\ipykernel_16924\\1144260390.py:17: FutureWarning: \n",
      "\n",
      "Passing `palette` without assigning `hue` is deprecated and will be removed in v0.14.0. Assign the `x` variable to `hue` and set `legend=False` for the same effect.\n",
      "\n",
      "  sns.barplot(x=genre_counts.index, y=genre_counts.values, palette='Set2')\n"
     ]
    },
    {
     "data": {
      "image/png": "[encoded data removed]",
      "text/plain": [
       "<Figure size 1200x600 with 1 Axes>"
      ]
     },
     "metadata": {},
     "output_type": "display_data"
    }
   ],
   "source": [
    "# 6.  Genre Distribution\n",
    "# Break into Chunks\n",
    "chunk_size = 1_000_000\n",
    "genre_counter = Counter()\n",
    "\n",
    "for i in range(0, len(ratings_movies), chunk_size):\n",
    "    chunk = ratings_movies.iloc[i:i+chunk_size]\n",
    "    genres_split = chunk['genres'].str.split('|')\n",
    "    genres_flat = genres_split.explode()\n",
    "    genre_counter.update(genres_flat.dropna())\n",
    "\n",
    "# Convert to DataFrame\n",
    "genre_counts = pd.Series(genre_counter).sort_values(ascending=False)\n",
    "\n",
    "# Plot\n",
    "plt.figure(figsize=(12, 6))\n",
    "sns.barplot(x=genre_counts.index, y=genre_counts.values, palette='Set2')\n",
    "plt.xticks(rotation=45)\n",
    "plt.title('Genre Frequency')\n",
    "plt.xlabel('Genre')\n",
    "plt.ylabel('Count')\n",
    "plt.tight_layout()\n",
    "plt.show()"
   ]
  },
  {
   "cell_type": "markdown",
   "id": "e27f6717-48c3-49ca-a7a2-3f1e5c6cbe2e",
   "metadata": {},
   "source": [
    "#  Build collaborative filtering models - User-based & Item-based."
   ]
  },
  {
   "cell_type": "markdown",
   "id": "f04bdca8-65ba-4d95-a6ce-aa00ea4bee90",
   "metadata": {},
   "source": [
    "# 1. Load and Prepare Data for Collabrative Filtering Models"
   ]
  },
  {
   "cell_type": "code",
   "execution_count": 27,
   "id": "9728f41d-c1b5-484b-9110-b034b644118a",
   "metadata": {},
   "outputs": [],
   "source": [
    "import pandas as pd\n",
    "from surprise import Dataset, Reader\n",
    "from surprise.model_selection import train_test_split\n",
    "from surprise import KNNBasic, SVD, NMF, accuracy\n",
    "import warnings\n",
    "warnings.filterwarnings(\"ignore\")\n",
    "\n",
    "# Fix: Specify the full path to the ratings.csv file\n",
    "ratings = pd.read_csv(\"Personalized_Recommendation_System_Project/ml-25m/ratings.csv\")\n",
    "\n",
    "# Sample a manageable subset\n",
    "ratings_sample = ratings.sample(n=100_000, random_state=42)\n",
    "ratings_sample['userId'] = ratings_sample['userId'].astype('int32')\n",
    "ratings_sample['movieId'] = ratings_sample['movieId'].astype('int32')\n",
    "ratings_sample['rating'] = ratings_sample['rating'].astype('float32')\n",
    "\n",
    "# Prepare Surprise Dataset\n",
    "reader = Reader(rating_scale=(0.5, 5.0))\n",
    "data = Dataset.load_from_df(ratings_sample[['userId', 'movieId', 'rating']], reader)\n",
    "\n",
    "# Train-test split\n",
    "trainset, testset = train_test_split(data, test_size=0.2, random_state=42)"
   ]
  },
  {
   "cell_type": "markdown",
   "id": "e4355436-e4dc-4c1f-ad33-d199f0190ba7",
   "metadata": {},
   "source": [
    "# 2.  User-based Collaborative Filtering (k-NN with user similarity)"
   ]
  },
  {
   "cell_type": "code",
   "execution_count": 29,
   "id": "537765a9-70ca-4588-98cd-711ffb49c3eb",
   "metadata": {},
   "outputs": [
    {
     "name": "stdout",
     "output_type": "stream",
     "text": [
      "Computing the cosine similarity matrix...\n",
      "Done computing similarity matrix.\n",
      "RMSE: 1.0712\n",
      "📊 User-based CF RMSE: 1.071231047789878\n",
      "MAE:  0.8478\n",
      "📊 User-based CF MAE: 0.84783022\n"
     ]
    }
   ],
   "source": [
    "# User-based CF using cosine similarity\n",
    "# User-based CF\n",
    "from surprise import KNNBasic\n",
    "\n",
    "# Use cosine similarity, user-based\n",
    "sim_user = {'name': 'cosine', 'user_based': False}\n",
    "model_user = KNNBasic(sim_options=sim_user)\n",
    "model_user.fit(trainset)\n",
    "pred_user = model_user.test(testset)\n",
    "\n",
    "# Evaluation\n",
    "print(\"📊 User-based CF RMSE:\", accuracy.rmse(pred_user))\n",
    "print(\"📊 User-based CF MAE:\", accuracy.mae(pred_user))"
   ]
  },
  {
   "cell_type": "markdown",
   "id": "ccd41481-509c-4ab0-b751-759413c61e62",
   "metadata": {},
   "source": [
    "# 3.  Item-based Collaborative Filtering"
   ]
  },
  {
   "cell_type": "code",
   "execution_count": 31,
   "id": "bc2c5755-cd3e-4bea-81da-fa82098de572",
   "metadata": {},
   "outputs": [
    {
     "name": "stdout",
     "output_type": "stream",
     "text": [
      "Computing the cosine similarity matrix...\n",
      "Done computing similarity matrix.\n",
      "RMSE: 1.0712\n",
      "📊 Item-based CF RMSE: 1.071231047789878\n",
      "MAE:  0.8478\n",
      "📊 Item-based CF MAE: 0.84783022\n"
     ]
    }
   ],
   "source": [
    "# Item-based CF using cosine similarity\n",
    "sim_item = {'name': 'cosine', 'user_based': False}\n",
    "model_item = KNNBasic(sim_options=sim_item)\n",
    "model_item.fit(trainset)\n",
    "pred_item = model_item.test(testset)\n",
    "\n",
    "# Evaluation\n",
    "print(\"📊 Item-based CF RMSE:\", accuracy.rmse(pred_item))\n",
    "print(\"📊 Item-based CF MAE:\", accuracy.mae(pred_item))"
   ]
  },
  {
   "cell_type": "markdown",
   "id": "3e1c8112-c8a2-448c-b5f9-c77e9045ac29",
   "metadata": {},
   "source": [
    "#  4.Matrix Factorization (SVD)"
   ]
  },
  {
   "cell_type": "code",
   "execution_count": 33,
   "id": "23e4ab94-69d6-408e-88f6-7e8472f5c5ec",
   "metadata": {},
   "outputs": [
    {
     "name": "stdout",
     "output_type": "stream",
     "text": [
      "RMSE: 0.9766\n",
      "🎯 SVD RMSE: 0.9765783597926571\n",
      "MAE:  0.7560\n",
      "🎯 SVD MAE: 0.7560386287586415\n"
     ]
    }
   ],
   "source": [
    "from surprise import SVD\n",
    "\n",
    "model_svd = SVD()\n",
    "model_svd.fit(trainset)\n",
    "pred_svd = model_svd.test(testset)\n",
    "\n",
    "print(\"🎯 SVD RMSE:\", accuracy.rmse(pred_svd))\n",
    "print(\"🎯 SVD MAE:\", accuracy.mae(pred_svd))"
   ]
  },
  {
   "cell_type": "markdown",
   "id": "efbce4d9-4a4b-4db3-b96a-19902d971e5a",
   "metadata": {},
   "source": [
    "#  5.Matrix Factorization (NMF)"
   ]
  },
  {
   "cell_type": "code",
   "execution_count": 35,
   "id": "03683802-3cfd-4d3b-9819-978850721cea",
   "metadata": {},
   "outputs": [
    {
     "name": "stdout",
     "output_type": "stream",
     "text": [
      "RMSE: 1.1524\n",
      "🎯 NMF RMSE: 1.1523632365397503\n",
      "MAE:  0.9115\n",
      "🎯 NMF MAE: 0.9114699795999402\n"
     ]
    }
   ],
   "source": [
    "from surprise import NMF\n",
    "\n",
    "model_nmf = NMF()\n",
    "model_nmf.fit(trainset)\n",
    "pred_nmf = model_nmf.test(testset)\n",
    "\n",
    "print(\"🎯 NMF RMSE:\", accuracy.rmse(pred_nmf))\n",
    "print(\"🎯 NMF MAE:\", accuracy.mae(pred_nmf))"
   ]
  },
  {
   "cell_type": "markdown",
   "id": "78270b01-8594-413b-8c01-c46879b628e8",
   "metadata": {},
   "source": [
    "##  6.Precision@K"
   ]
  },
  {
   "cell_type": "code",
   "execution_count": 41,
   "id": "5991a85a-6d7d-45df-854b-a64cdeebecf0",
   "metadata": {},
   "outputs": [
    {
     "name": "stdout",
     "output_type": "stream",
     "text": [
      "📌 Precision@5 (User CF): 0.1491966426858513\n",
      "📌 Precision@5 (SVD): 0.1492326139088729\n"
     ]
    }
   ],
   "source": [
    "from collections import defaultdict\n",
    "\n",
    "def precision_at_k(predictions, k=5, threshold=3.5):\n",
    "    user_est_true = defaultdict(list)\n",
    "    for uid, _, true_r, est, _ in predictions:\n",
    "        user_est_true[uid].append((est, true_r))\n",
    "\n",
    "    precisions = []\n",
    "    for uid, user_ratings in user_est_true.items():\n",
    "        user_ratings.sort(key=lambda x: x[0], reverse=True)\n",
    "        top_k = user_ratings[:k]\n",
    "        n_rel = sum((true_r >= threshold) for (_, true_r) in top_k)\n",
    "        precisions.append(n_rel / k)\n",
    "\n",
    "    return sum(precisions) / len(precisions)\n",
    "\n",
    "print(\"📌 Precision@5 (User CF):\", precision_at_k(pred_user))\n",
    "print(\"📌 Precision@5 (SVD):\", precision_at_k(pred_svd))"
   ]
  },
  {
   "cell_type": "code",
   "execution_count": 43,
   "id": "0b965fee-058e-4d32-85bc-a442e2e385e9",
   "metadata": {},
   "outputs": [
    {
     "name": "stdout",
     "output_type": "stream",
     "text": [
      "📌 All models saved successfully using joblib.\n"
     ]
    }
   ],
   "source": [
    "# To Save the Models using Joblib\n",
    "output_dir = \"Personalized_Recommendation_System_Project\"\n",
    "os.makedirs(output_dir, exist_ok=True)\n",
    "\n",
    "joblib.dump(model_user, os.path.join(output_dir, \"user_cf_model.joblib\"))\n",
    "joblib.dump(model_item, os.path.join(output_dir, \"item_cf_model.joblib\"))\n",
    "joblib.dump(model_svd, os.path.join(output_dir, \"svd_model.joblib\"))\n",
    "joblib.dump(model_nmf, os.path.join(output_dir, \"nmf_model.joblib\"))\n",
    "\n",
    "print(\"📌 All models saved successfully using joblib.\")"
   ]
  },
  {
   "cell_type": "markdown",
   "id": "fa103c32-88c8-433e-95f9-d968c571d2b5",
   "metadata": {},
   "source": [
    "# Build a Content-based Recommendation system using TF-IDF on Metadata"
   ]
  },
  {
   "cell_type": "markdown",
   "id": "c5cb96d8-da16-48f9-b48c-6d53784cab28",
   "metadata": {},
   "source": [
    "# 1. Load & Preprocess Metadata"
   ]
  },
  {
   "cell_type": "code",
   "execution_count": 46,
   "id": "450c3c3b-ef6d-4900-8d76-3a343221f338",
   "metadata": {},
   "outputs": [
    {
     "name": "stdout",
     "output_type": "stream",
     "text": [
      "                                              title  \\\n",
      "0                               Pulp Fiction (1994)   \n",
      "1  Three Colors: Red (Trois couleurs: Rouge) (1994)   \n",
      "2  Three Colors: Blue (Trois couleurs: Bleu) (1993)   \n",
      "3                                Underground (1995)   \n",
      "4                        Singin' in the Rain (1952)   \n",
      "5                              Dirty Dancing (1987)   \n",
      "6                               Delicatessen (1991)   \n",
      "7                                        Ran (1985)   \n",
      "8   Seventh Seal, The (Sjunde inseglet, Det) (1957)   \n",
      "9              Bridge on the River Kwai, The (1957)   \n",
      "\n",
      "                        genres  \\\n",
      "0  Comedy|Crime|Drama|Thriller   \n",
      "1                        Drama   \n",
      "2                        Drama   \n",
      "3             Comedy|Drama|War   \n",
      "4       Comedy|Musical|Romance   \n",
      "5        Drama|Musical|Romance   \n",
      "6         Comedy|Drama|Romance   \n",
      "7                    Drama|War   \n",
      "8                        Drama   \n",
      "9          Adventure|Drama|War   \n",
      "\n",
      "                                            metadata  \n",
      "0    Pulp Fiction (1994) Comedy|Crime|Drama|Thriller  \n",
      "1  Three Colors: Red (Trois couleurs: Rouge) (199...  \n",
      "2  Three Colors: Blue (Trois couleurs: Bleu) (199...  \n",
      "3                Underground (1995) Comedy|Drama|War  \n",
      "4  Singin' in the Rain (1952) Comedy|Musical|Romance  \n",
      "5         Dirty Dancing (1987) Drama|Musical|Romance  \n",
      "6           Delicatessen (1991) Comedy|Drama|Romance  \n",
      "7                               Ran (1985) Drama|War  \n",
      "8  Seventh Seal, The (Sjunde inseglet, Det) (1957...  \n",
      "9  Bridge on the River Kwai, The (1957) Adventure...  \n"
     ]
    }
   ],
   "source": [
    "# Load your cleaned dataset\n",
    "file_path = \"cleaned path\"\n",
    "chunk_iter = pd.read_csv(file_path, chunksize=100000)\n",
    "\n",
    "# Combine First Few Rows\n",
    "df = pd.concat([chunk for _, chunk in zip(range(2), chunk_iter)], ignore_index=True)\n",
    "\n",
    "# Create metadata by combining title and genres\n",
    "df['metadata'] = df['title'] + ' ' + df['genres'].fillna('')\n",
    "print(df[['title', 'genres', 'metadata']].head(10))"
   ]
  },
  {
   "cell_type": "code",
   "execution_count": 52,
   "id": "ff7cad51-b819-47c4-b602-2347034feffc",
   "metadata": {},
   "outputs": [],
   "source": [
    "###  Remove Duplicates\n",
    "df_unique = df.drop_duplicates(subset='movieId')"
   ]
  },
  {
   "cell_type": "code",
   "execution_count": 53,
   "id": "feeb88b5-d8e4-4d26-af1c-b686d1f02be3",
   "metadata": {},
   "outputs": [],
   "source": [
    "### Top 500 Popular Movies to select\n",
    "top_500_ids = df['movieId'].value_counts().head(500).index\n",
    "df_subset = df[df['movieId'].isin(top_500_ids)].drop_duplicates('movieId').reset_index(drop=True)"
   ]
  },
  {
   "cell_type": "code",
   "execution_count": 74,
   "id": "142abae9-b36c-49a6-8af1-f0e6e40e3350",
   "metadata": {},
   "outputs": [],
   "source": [
    "# Rebuild metadata from df_subset\n",
    "df_subset['metadata'] = df_subset['title'].fillna('') + ' ' + df_subset['genres'].fillna('')"
   ]
  },
  {
   "cell_type": "code",
   "execution_count": 76,
   "id": "de9a1a8d-087f-4fdd-8a67-9176642fe7ae",
   "metadata": {},
   "outputs": [],
   "source": [
    "### 2. Apply TF-IDF Vectorization\n",
    "# Initialized the TF-IDF Vectorizer\n",
    "tfidf = TfidfVectorizer(stop_words='english')\n",
    "tfidf_matrix = tfidf.fit_transform(df['metadata'])"
   ]
  },
  {
   "cell_type": "code",
   "execution_count": 80,
   "id": "7e89f408-e157-4e17-acb1-43173b760794",
   "metadata": {},
   "outputs": [
    {
     "name": "stderr",
     "output_type": "stream",
     "text": [
      "** Computing Similarities: 100%|██████████| 200000/200000 [1:47:38<00:00, 30.96it/s]  \n"
     ]
    }
   ],
   "source": [
    "### 3. Cosine Simillarity --- Compute Top-N Similar Movies for Each Movie\n",
    "# Compute cosine similarity matrix in bulk\n",
    "from tqdm import tqdm\n",
    "\n",
    "def compute_top_n_similarities(matrix, top_n=10):\n",
    "    top_sim = {}\n",
    "    for i in tqdm(range(matrix.shape[0]), desc=\"** Computing Similarities\"):\n",
    "        sim_row = cosine_similarity(matrix[i], matrix).flatten()\n",
    "        top_indices = np.argpartition(-sim_row, top_n + 1)[:top_n + 1]\n",
    "        top_indices = top_indices[top_indices != i]  # exclude self\n",
    "        sorted_top = top_indices[np.argsort(-sim_row[top_indices])]\n",
    "        top_sim[i] = list(zip(sorted_top, sim_row[sorted_top]))\n",
    "    return top_sim\n",
    "\n",
    "top_similarities = compute_top_n_similarities(tfidf_matrix)"
   ]
  },
  {
   "cell_type": "code",
   "execution_count": 84,
   "id": "396ccc86-6a17-47e6-a323-d883e0be1f13",
   "metadata": {},
   "outputs": [
    {
     "name": "stdout",
     "output_type": "stream",
     "text": [
      "✅ Top similarities saved to: Documents/Personalized_Recommendation_System_Project/top_similarities.joblib\n"
     ]
    }
   ],
   "source": [
    "#### Save Top - Similarities\n",
    "save_path = os.path.expanduser(\"Personalized_Recommendation_System_Project/top_similarities.joblib\")\n",
    "joblib.dump(top_similarities, save_path)\n",
    "print(f\"✅ Top similarities saved to: {save_path}\")"
   ]
  },
  {
   "cell_type": "code",
   "execution_count": 86,
   "id": "c0de1bee-65ab-4948-9627-464250c1f1d8",
   "metadata": {},
   "outputs": [],
   "source": [
    "### 4. Define Recommendation Function\n",
    "#### Mapping Movie Index to Title \n",
    "title_mapping = df_subset['title'].reset_index(drop=True)\n",
    "\n",
    "def get_top_recommendations(movie_title, top_similarities=top_similarities, title_mapping=title_mapping):\n",
    "    try:\n",
    "        idx = df_subset[df_subset['title'].str.lower() == movie_title.lower()].index[0]\n",
    "        similar_movies = top_similarities.get(idx)\n",
    "\n",
    "        if not similar_movies:\n",
    "            return [\"🤖 No similar movies found.\"]\n",
    "\n",
    "        recommended_titles = [\n",
    "            title_mapping[i] for i, _ in similar_movies if i < len(title_mapping)\n",
    "        ]\n",
    "        return recommended_titles\n",
    "\n",
    "    except IndexError:\n",
    "        return [\"⚠️ Movie title not found in the top-500 subset.\"]\n",
    "    except Exception as e:\n",
    "        return [f\"⚙️ Error: {str(e)}\"]"
   ]
  },
  {
   "cell_type": "code",
   "execution_count": 90,
   "id": "88f3314e-2ed2-48f4-8293-9586ef71fc85",
   "metadata": {},
   "outputs": [
    {
     "name": "stdout",
     "output_type": "stream",
     "text": [
      "🎞️ Available titles in the top-500 subset:\n",
      "   • Pulp Fiction (1994)\n",
      "   • Singin' in the Rain (1952)\n",
      "   • Dirty Dancing (1987)\n",
      "   • Bridge on the River Kwai, The (1957)\n",
      "   • Gattaca (1997)\n",
      "   • Back to the Future Part II (1989)\n",
      "   • Back to the Future Part III (1990)\n",
      "   • Run Lola Run (Lola rennt) (1998)\n",
      "   • Requiem for a Dream (2000)\n",
      "   • Moulin Rouge (2001)\n",
      "   • Amelie (Fabuleux destin d'Amélie Poulain, Le) (2001)\n",
      "   • Lord of the Rings: The Two Towers, The (2002)\n",
      "   • City of God (Cidade de Deus) (2002)\n",
      "   • Finding Nemo (2003)\n",
      "   • Pirates of the Caribbean: The Curse of the Black Pearl (2003)\n",
      "   • Lost in Translation (2003)\n",
      "   • Eternal Sunshine of the Spotless Mind (2004)\n",
      "   • Shrek 2 (2004)\n",
      "   • Toy Story (1995)\n",
      "   • Mr. Holland's Opus (1995)\n",
      "   • Braveheart (1995)\n",
      "   • Apollo 13 (1995)\n",
      "   • Rob Roy (1995)\n",
      "   • French Kiss (1995)\n",
      "   • Star Wars: Episode IV - A New Hope (1977)\n",
      "   • Legends of the Fall (1994)\n",
      "   • Shawshank Redemption, The (1994)\n",
      "   • Clear and Present Danger (1994)\n",
      "   • Forrest Gump (1994)\n",
      "   • Lion King, The (1994)\n",
      "   • True Lies (1994)\n",
      "   • Fugitive, The (1993)\n",
      "   • Jurassic Park (1993)\n",
      "   • Much Ado About Nothing (1993)\n",
      "   • Schindler's List (1993)\n",
      "   • Tombstone (1993)\n",
      "   • Aladdin (1992)\n",
      "   • Terminator 2: Judgment Day (1991)\n",
      "   • Dragonheart (1996)\n",
      "   • Rock, The (1996)\n",
      "   • Godfather, The (1972)\n",
      "   • It's a Wonderful Life (1946)\n",
      "   • Sound of Music, The (1965)\n",
      "   • Monty Python's Life of Brian (1979)\n",
      "   • Monty Python and the Holy Grail (1975)\n",
      "   • Star Wars: Episode V - The Empire Strikes Back (1980)\n",
      "   • Princess Bride, The (1987)\n",
      "   • Raiders of the Lost Ark (Indiana Jones and the Raiders of the Lost Ark) (1981)\n",
      "   • Good, the Bad and the Ugly, The (Buono, il brutto, il cattivo, Il) (1966)\n",
      "   • Star Wars: Episode VI - Return of the Jedi (1983)\n",
      "   • Dead Poets Society (1989)\n",
      "   • Back to the Future (1985)\n",
      "   • Highlander (1986)\n",
      "   • Indiana Jones and the Last Crusade (1989)\n",
      "   • Field of Dreams (1989)\n",
      "   • Star Trek: First Contact (1996)\n",
      "   • Star Trek II: The Wrath of Khan (1982)\n",
      "   • Star Trek IV: The Voyage Home (1986)\n",
      "   • Jerry Maguire (1996)\n",
      "   • Liar Liar (1997)\n",
      "   • Fifth Element, The (1997)\n",
      "   • Men in Black (a.k.a. MIB) (1997)\n",
      "   • Contact (1997)\n",
      "   • Hunt for Red October, The (1990)\n",
      "   • Witness (1985)\n",
      "   • Truman Show, The (1998)\n",
      "   • Tomorrow Never Dies (1997)\n",
      "   • Mulan (1998)\n",
      "   • There's Something About Mary (1998)\n",
      "   • Breakfast Club, The (1985)\n",
      "   • Saving Private Ryan (1998)\n",
      "   • Little Mermaid, The (1989)\n",
      "   • Indiana Jones and the Temple of Doom (1984)\n",
      "   • Untouchables, The (1987)\n",
      "   • Few Good Men, A (1992)\n",
      "   • Rush Hour (1998)\n",
      "   • Life Is Beautiful (La Vita è bella) (1997)\n",
      "   • Bug's Life, A (1998)\n",
      "   • Romancing the Stone (1984)\n",
      "   • Crocodile Dundee (1986)\n",
      "   • Matrix, The (1999)\n",
      "   • Mummy, The (1999)\n",
      "   • Superman (1978)\n",
      "   • Sixth Sense, The (1999)\n",
      "   • Big (1988)\n",
      "   • Ferris Bueller's Day Off (1986)\n",
      "   • Who Framed Roger Rabbit? (1988)\n",
      "   • Toy Story 2 (1999)\n",
      "   • Galaxy Quest (1999)\n",
      "   • Gladiator (2000)\n",
      "   • X-Men (2000)\n",
      "   • Meet the Parents (2000)\n",
      "   • Unbreakable (2000)\n",
      "   • Cast Away (2000)\n",
      "   • Shrek (2001)\n",
      "   • Others, The (2001)\n",
      "   • Monsters, Inc. (2001)\n",
      "   • Harry Potter and the Sorcerer's Stone (a.k.a. Harry Potter and the Philosopher's Stone) (2001)\n",
      "   • Ocean's Eleven (2001)\n",
      "   • Lord of the Rings: The Fellowship of the Ring, The (2001)\n",
      "   • Beautiful Mind, A (2001)\n",
      "   • Black Hawk Down (2001)\n",
      "   • Spider-Man (2002)\n",
      "   • Bourne Identity, The (2002)\n",
      "   • Minority Report (2002)\n",
      "   • Harry Potter and the Chamber of Secrets (2002)\n",
      "   • X2: X-Men United (2003)\n",
      "   • Last Samurai, The (2003)\n",
      "   • Lord of the Rings: The Return of the King, The (2003)\n",
      "   • Harry Potter and the Prisoner of Azkaban (2004)\n",
      "   • Spider-Man 2 (2004)\n",
      "   • Bourne Supremacy, The (2004)\n",
      "   • Incredibles, The (2004)\n",
      "   • Hotel Rwanda (2004)\n",
      "   • Crash (2004)\n",
      "   • Star Wars: Episode III - Revenge of the Sith (2005)\n",
      "   • Batman Begins (2005)\n",
      "   • 40-Year-Old Virgin, The (2005)\n",
      "   • Harry Potter and the Goblet of Fire (2005)\n",
      "   • Twelve Monkeys (a.k.a. 12 Monkeys) (1995)\n",
      "   • Usual Suspects, The (1995)\n",
      "   • Taxi Driver (1976)\n",
      "   • Johnny Mnemonic (1995)\n",
      "   • Judge Dredd (1995)\n",
      "   • Léon: The Professional (a.k.a. The Professional) (Léon) (1994)\n",
      "   • Demolition Man (1993)\n",
      "   • Blade Runner (1982)\n",
      "   • Silence of the Lambs, The (1991)\n",
      "   • Wallace & Gromit: A Close Shave (1995)\n",
      "   • Trainspotting (1996)\n",
      "   • Independence Day (a.k.a. ID4) (1996)\n",
      "   • Casablanca (1942)\n",
      "   • Maltese Falcon, The (1941)\n",
      "   • 2001: A Space Odyssey (1968)\n",
      "   • Reservoir Dogs (1992)\n",
      "   • Abyss, The (1989)\n",
      "   • Wallace & Gromit: The Wrong Trousers (1993)\n",
      "   • Aliens (1986)\n",
      "   • Clockwork Orange, A (1971)\n",
      "   • Apocalypse Now (1979)\n",
      "   • Goodfellas (1990)\n",
      "   • Alien (1979)\n",
      "   • Godfather: Part II, The (1974)\n",
      "   • Full Metal Jacket (1987)\n",
      "   • Terminator, The (1984)\n",
      "   • Chinatown (1974)\n",
      "   • Alien³ (a.k.a. Alien 3) (1992)\n",
      "   • Starship Troopers (1997)\n",
      "   • Big Lebowski, The (1998)\n",
      "   • X-Files: Fight the Future, The (1998)\n",
      "   • Seven Samurai (Shichinin no samurai) (1954)\n",
      "   • Tron (1982)\n",
      "   • American History X (1998)\n",
      "   • Lock, Stock & Two Smoking Barrels (1998)\n",
      "   • Star Wars: Episode I - The Phantom Menace (1999)\n",
      "   • American Beauty (1999)\n",
      "   • Fight Club (1999)\n",
      "   • Erin Brockovich (2000)\n",
      "   • Close Encounters of the Third Kind (1977)\n",
      "   • Predator (1987)\n",
      "   • American Psycho (2000)\n",
      "   • Chicken Run (2000)\n",
      "   • Patriot, The (2000)\n",
      "   • Scary Movie (2000)\n",
      "   • Charlie's Angels (2000)\n",
      "   • Crouching Tiger, Hidden Dragon (Wo hu cang long) (2000)\n",
      "   • Snatch (2000)\n",
      "   • Miss Congeniality (2000)\n",
      "   • O Brother, Where Art Thou? (2000)\n",
      "   • Traffic (2000)\n",
      "   • Memento (2000)\n",
      "   • Bridget Jones's Diary (2001)\n",
      "   • Scarface (1983)\n",
      "   • Royal Tenenbaums, The (2001)\n",
      "   • Ice Age (2002)\n",
      "   • Star Wars: Episode II - Attack of the Clones (2002)\n",
      "   • Men in Black II (a.k.a. MIIB) (a.k.a. MIB 2) (2002)\n",
      "   • Signs (2002)\n",
      "   • Bowling for Columbine (2002)\n",
      "   • Ring, The (2002)\n",
      "   • Catch Me If You Can (2002)\n",
      "   • Matrix Reloaded, The (2003)\n",
      "   • Bruce Almighty (2003)\n",
      "   • Italian Job, The (2003)\n",
      "   • 28 Days Later (2002)\n",
      "   • Terminator 3: Rise of the Machines (2003)\n",
      "   • School of Rock (2003)\n",
      "   • Kill Bill: Vol. 1 (2003)\n",
      "   • Matrix Revolutions, The (2003)\n",
      "   • Big Fish (2003)\n",
      "   • 50 First Dates (2004)\n",
      "   • Kill Bill: Vol. 2 (2004)\n",
      "   • I, Robot (2004)\n",
      "   • Shaun of the Dead (2004)\n",
      "   • Old Boy (2003)\n",
      "   • Million Dollar Baby (2004)\n",
      "   • Sin City (2005)\n",
      "   • Mr. & Mrs. Smith (2005)\n",
      "   • Serenity (2005)\n",
      "   • Chronicles of Narnia: The Lion, the Witch and the Wardrobe, The (2005)\n",
      "   • V for Vendetta (2006)\n",
      "   • Pirates of the Caribbean: Dead Man's Chest (2006)\n",
      "   • Little Miss Sunshine (2006)\n",
      "   • Illusionist, The (2006)\n",
      "   • Pan's Labyrinth (Laberinto del fauno, El) (2006)\n",
      "   • Departed, The (2006)\n",
      "   • Children of Men (2006)\n",
      "   • Prestige, The (2006)\n",
      "   • Casino Royale (2006)\n",
      "   • Blood Diamond (2006)\n",
      "   • Ratatouille (2007)\n",
      "   • Hot Fuzz (2007)\n",
      "   • 300 (2007)\n",
      "   • Harry Potter and the Order of the Phoenix (2007)\n",
      "   • Bourne Ultimatum, The (2007)\n",
      "   • Superbad (2007)\n",
      "   • No Country for Old Men (2007)\n",
      "   • Dark Knight, The (2008)\n",
      "   • Iron Man (2008)\n",
      "   • WALL·E (2008)\n",
      "   • Watchmen (2009)\n",
      "   • Gran Torino (2008)\n",
      "   • Inglourious Basterds (2009)\n",
      "   • Star Trek (2009)\n",
      "   • Hangover, The (2009)\n",
      "   • Harry Potter and the Half-Blood Prince (2009)\n",
      "   • District 9 (2009)\n",
      "   • Zombieland (2009)\n",
      "   • Avatar (2009)\n",
      "   • Sherlock Holmes (2009)\n",
      "   • Shutter Island (2010)\n",
      "   • How to Train Your Dragon (2010)\n",
      "   • Toy Story 3 (2010)\n",
      "   • Inception (2010)\n",
      "   • Social Network, The (2010)\n",
      "   • Black Swan (2010)\n",
      "   • Harry Potter and the Deathly Hallows: Part 1 (2010)\n",
      "   • King's Speech, The (2010)\n",
      "   • Harry Potter and the Deathly Hallows: Part 2 (2011)\n",
      "   • Avengers, The (2012)\n",
      "   • The Hunger Games (2012)\n",
      "   • Dark Knight Rises, The (2012)\n",
      "   • Django Unchained (2012)\n",
      "   • Gravity (2013)\n",
      "   • Wolf of Wall Street, The (2013)\n",
      "   • Grand Budapest Hotel, The (2014)\n",
      "   • Interstellar (2014)\n",
      "   • Edge of Tomorrow (2014)\n",
      "   • Whiplash (2014)\n",
      "   • Gone Girl (2014)\n",
      "   • Guardians of the Galaxy (2014)\n",
      "   • Ex Machina (2015)\n",
      "   • The Imitation Game (2014)\n",
      "   • Mad Max: Fury Road (2015)\n",
      "   • Star Wars: Episode VII - The Force Awakens (2015)\n",
      "   • The Martian (2015)\n",
      "   • Inside Out (2015)\n",
      "   • Die Hard (1988)\n",
      "   • Blues Brothers, The (1980)\n",
      "   • Groundhog Day (1993)\n",
      "   • Young Frankenstein (1974)\n",
      "   • This Is Spinal Tap (1984)\n",
      "   • Ghostbusters (a.k.a. Ghost Busters) (1984)\n",
      "   • Airplane! (1980)\n",
      "   • RoboCop (1987)\n",
      "   • Spaceballs (1987)\n",
      "   • Trading Places (1983)\n",
      "   • Spirited Away (Sen to Chihiro no kamikakushi) (2001)\n",
      "   • Up (2009)\n",
      "   • Deadpool (2016)\n",
      "   • Ace Ventura: When Nature Calls (1995)\n",
      "   • Dead Man Walking (1995)\n",
      "   • Clueless (1995)\n",
      "   • Seven (a.k.a. Se7en) (1995)\n",
      "   • Broken Arrow (1996)\n",
      "   • Happy Gilmore (1996)\n",
      "   • Birdcage, The (1996)\n",
      "   • Batman Forever (1995)\n",
      "   • Dumb & Dumber (Dumb and Dumber) (1994)\n",
      "   • Ed Wood (1994)\n",
      "   • Interview with the Vampire: The Vampire Chronicles (1994)\n",
      "   • Natural Born Killers (1994)\n",
      "   • Outbreak (1995)\n",
      "   • Quiz Show (1994)\n",
      "   • What's Eating Gilbert Grape (1993)\n",
      "   • Muriel's Wedding (1994)\n",
      "   • Ace Ventura: Pet Detective (1994)\n",
      "   • Client, The (1994)\n",
      "   • City Slickers II: The Legend of Curly's Gold (1994)\n",
      "   • Coneheads (1993)\n",
      "   • Dave (1993)\n",
      "   • Mrs. Doubtfire (1993)\n",
      "   • Dances with Wolves (1990)\n",
      "   • Batman (1989)\n",
      "   • Beauty and the Beast (1991)\n",
      "   • Fargo (1996)\n",
      "   • Primal Fear (1996)\n",
      "   • Twister (1996)\n",
      "   • Cable Guy, The (1996)\n",
      "   • Eraser (1996)\n",
      "   • Nutty Professor, The (1996)\n",
      "   • Phenomenon (1996)\n",
      "   • Willy Wonka & the Chocolate Factory (1971)\n",
      "   • E.T. the Extra-Terrestrial (1982)\n",
      "   • Sting, The (1973)\n",
      "   • Grease (1978)\n",
      "   • Scream (1996)\n",
      "   • Crimson Tide (1995)\n",
      "   • Wizard of Oz, The (1939)\n",
      "   • English Patient, The (1996)\n",
      "   • 12 Angry Men (1957)\n",
      "   • Donnie Brasco (1997)\n",
      "   • Good Will Hunting (1997)\n",
      "   • Shakespeare in Love (1998)\n",
      "   • GoldenEye (1995)\n",
      "   • Sense and Sensibility (1995)\n",
      "   • Postman, The (Postino, Il) (1994)\n",
      "   • Die Hard: With a Vengeance (1995)\n",
      "   • Net, The (1995)\n",
      "   • Like Water for Chocolate (Como agua para chocolate) (1992)\n",
      "   • Star Trek: Generations (1994)\n",
      "   • Addams Family Values (1993)\n",
      "   • Grumpier Old Men (1995)\n",
      "   • Heat (1995)\n",
      "   • Sabrina (1995)\n",
      "   • American President, The (1995)\n",
      "   • Casino (1995)\n",
      "   • Get Shorty (1995)\n",
      "   • Leaving Las Vegas (1995)\n",
      "   • Rumble in the Bronx (Hont faan kui) (1995)\n",
      "   • Bad Boys (1995)\n",
      "   • Desperado (1995)\n",
      "   • Clerks (1994)\n",
      "   • Disclosure (1994)\n",
      "   • Stargate (1994)\n",
      "   • Speed (1994)\n",
      "   • Firm, The (1993)\n",
      "   • In the Line of Fire (1993)\n",
      "   • Executive Decision (1996)\n",
      "   • Nightmare Before Christmas, The (1993)\n",
      "   • Snow White and the Seven Dwarfs (1937)\n",
      "   • Mission: Impossible (1996)\n",
      "   • Truth About Cats & Dogs, The (1996)\n",
      "   • Dr. Strangelove or: How I Learned to Stop Worrying and Love the Bomb (1964)\n",
      "   • Time to Kill, A (1996)\n",
      "   • Vertigo (1958)\n",
      "   • Rear Window (1954)\n",
      "   • Citizen Kane (1941)\n",
      "   • Cinderella (1950)\n",
      "   • Top Gun (1986)\n",
      "   • To Kill a Mockingbird (1962)\n",
      "   • Glory (1989)\n",
      "   • Shining, The (1980)\n",
      "   • Stand by Me (1986)\n",
      "   • Sling Blade (1996)\n",
      "   • Die Hard 2 (1990)\n",
      "   • Mars Attacks! (1996)\n",
      "   • Con Air (1997)\n",
      "   • Face/Off (1997)\n",
      "   • Conspiracy Theory (1997)\n",
      "   • L.A. Confidential (1997)\n",
      "   • Game, The (1997)\n",
      "   • The Devil's Advocate (1997)\n",
      "   • Titanic (1997)\n",
      "   • Wedding Singer, The (1998)\n",
      "   • Jumanji (1995)\n",
      "   • Babe (1995)\n",
      "   • Casper (1995)\n",
      "   • First Knight (1995)\n",
      "   • Santa Clause, The (1994)\n",
      "   • Naked Gun 33 1/3: The Final Insult (1994)\n",
      "   • Beverly Hills Cop III (1994)\n",
      "   • Cliffhanger (1993)\n",
      "   • Hot Shots! Part Deux (1993)\n",
      "   • Robin Hood: Men in Tights (1993)\n",
      "   • Sleepless in Seattle (1993)\n",
      "   • Home Alone (1990)\n",
      "   • Ghost (1990)\n",
      "   • Pinocchio (1940)\n",
      "   • Pretty Woman (1990)\n",
      "   • Tin Cup (1996)\n",
      "   • Gone with the Wind (1939)\n",
      "   • Mary Poppins (1964)\n",
      "   • Fish Called Wanda, A (1988)\n",
      "   • Platoon (1986)\n",
      "   • Lawrence of Arabia (1962)\n",
      "   • Psycho (1960)\n",
      "   • Amadeus (1984)\n",
      "   • Graduate, The (1967)\n",
      "   • Great Escape, The (1963)\n",
      "   • Unforgiven (1992)\n",
      "   • When Harry Met Sally... (1989)\n",
      "   • Birds, The (1963)\n",
      "   • Jaws (1975)\n",
      "   • Raising Arizona (1987)\n",
      "   • M*A*S*H (a.k.a. MASH) (1970)\n",
      "   • 10 Things I Hate About You (1999)\n",
      "   • Pocahontas (1995)\n",
      "   • Congo (1995)\n",
      "   • Nine Months (1995)\n",
      "   • I.Q. (1994)\n",
      "   • Mask, The (1994)\n",
      "   • Maverick (1994)\n",
      "   • Hudsucker Proxy, The (1994)\n",
      "   • Philadelphia (1993)\n",
      "   • So I Married an Axe Murderer (1993)\n",
      "   • True Romance (1993)\n",
      "   • Ransom (1996)\n",
      "   • North by Northwest (1959)\n",
      "   • Army of Darkness (1993)\n",
      "   • Annie Hall (1977)\n",
      "   • Grosse Pointe Blank (1997)\n",
      "   • Austin Powers: International Man of Mystery (1997)\n",
      "   • Lost World: Jurassic Park, The (1997)\n",
      "   • Full Monty, The (1997)\n",
      "   • Boogie Nights (1997)\n",
      "   • As Good as It Gets (1997)\n",
      "   • Deep Impact (1998)\n",
      "   • Armageddon (1998)\n",
      "   • Rain Man (1988)\n",
      "   • Lethal Weapon (1987)\n",
      "   • Goonies, The (1985)\n",
      "   • Honey, I Shrunk the Kids (1989)\n",
      "   • Beetlejuice (1988)\n",
      "   • Edward Scissorhands (1990)\n",
      "   • My Cousin Vinny (1992)\n",
      "   • Pleasantville (1998)\n",
      "   • Rushmore (1998)\n",
      "   • You've Got Mail (1998)\n",
      "   • Election (1999)\n",
      "   • Rocky Horror Picture Show, The (1975)\n",
      "   • Notting Hill (1999)\n",
      "   • Austin Powers: The Spy Who Shagged Me (1999)\n",
      "   • Arachnophobia (1990)\n",
      "   • American Pie (1999)\n",
      "   • Blair Witch Project, The (1999)\n",
      "   • Christmas Story, A (1983)\n",
      "   • Goldfinger (1964)\n",
      "   • Being John Malkovich (1999)\n",
      "   • Wayne's World (1992)\n",
      "   • Thelma & Louise (1991)\n",
      "   • High Fidelity (2000)\n",
      "   • Almost Famous (2000)\n",
      "   • Donnie Darko (2001)\n",
      "   • Love Actually (2003)\n",
      "   • Juno (2007)\n",
      "   • (500) Days of Summer (2009)\n",
      "   • From Dusk Till Dawn (1996)\n",
      "   • Waterworld (1995)\n",
      "   • Batman Returns (1992)\n",
      "   • Office Space (1999)\n",
      "   • Total Recall (1990)\n",
      "   • Princess Mononoke (Mononoke-hime) (1997)\n",
      "   • Green Mile, The (1999)\n",
      "   • A.I. Artificial Intelligence (2001)\n",
      "   • The Butterfly Effect (2004)\n",
      "   • Into the Wild (2007)\n",
      "   • Slumdog Millionaire (2008)\n",
      "   • Intouchables (2011)\n",
      "   • Air Force One (1997)\n",
      "   • South Park: Bigger, Longer and Uncut (1999)\n",
      "   • One Flew Over the Cuckoo's Nest (1975)\n",
      "   • Pianist, The (2002)\n",
      "   • Father of the Bride Part II (1995)\n",
      "   • Crow, The (1994)\n",
      "   • Four Weddings and a Funeral (1994)\n",
      "   • Crying Game, The (1992)\n",
      "   • Butch Cassidy and the Sundance Kid (1969)\n",
      "   • Mask of Zorro, The (1998)\n",
      "   • Blade (1998)\n",
      "   • Enemy of the State (1998)\n",
      "   • Planet of the Apes (1968)\n",
      "   • Eyes Wide Shut (1999)\n",
      "   • Mortal Kombat (1995)\n",
      "   • Alien: Resurrection (1997)\n",
      "   • Rocky (1976)\n",
      "   • Pearl Harbor (2001)\n",
      "   • Cool Hand Luke (1967)\n",
      "   • Lethal Weapon 2 (1989)\n",
      "   • Talented Mr. Ripley, The (1999)\n",
      "   • While You Were Sleeping (1995)\n",
      "   • Hoop Dreams (1994)\n",
      "   • Piano, The (1993)\n",
      "   • Cocoon (1985)\n",
      "   • Dogma (1999)\n",
      "   • Jungle Book, The (1967)\n",
      "   • Mission: Impossible II (2000)\n",
      "   • Gone in 60 Seconds (2000)\n",
      "   • Species (1995)\n",
      "   • Sleepy Hollow (1999)\n",
      "   • Brazil (1985)\n",
      "   • Deer Hunter, The (1978)\n",
      "   • Magnolia (1999)\n",
      "   • Three Musketeers, The (1993)\n",
      "   • Last of the Mohicans, The (1992)\n",
      "   • Thomas Crown Affair, The (1999)\n",
      "   • Chasing Amy (1997)\n",
      "   • Boot, Das (Boat, The) (1981)\n",
      "   • Exorcist, The (1973)\n",
      "   • Last Action Hero (1993)\n"
     ]
    }
   ],
   "source": [
    "# Display all movie titles in the top-500 subset\n",
    "print(\"🎞️ Available titles in the top-500 subset:\")\n",
    "for title in df_subset['title']:\n",
    "    print(\"   •\", title)"
   ]
  },
  {
   "cell_type": "code",
   "execution_count": 92,
   "id": "5b625677-2a7b-4b15-ac80-7973d1889951",
   "metadata": {},
   "outputs": [
    {
     "name": "stdout",
     "output_type": "stream",
     "text": [
      "\n",
      "🎬 Recommendations for 'Gravity (2013)':\n"
     ]
    }
   ],
   "source": [
    "### Preview\n",
    "movie_title = \"Gravity (2013)\"\n",
    "recommendations = get_top_recommendations(movie_title)\n",
    "print(f\"\\n🎬 Recommendations for '{movie_title}':\")\n",
    "for title in recommendations:\n",
    "    print(\"   •\", title)"
   ]
  },
  {
   "cell_type": "markdown",
   "id": "a5b7abee-3257-4d26-9ba6-f1b9022f4585",
   "metadata": {},
   "source": [
    "# 1. Hybrid Recommendation System (Content-Based + Collaborative)"
   ]
  },
  {
   "cell_type": "code",
   "execution_count": 95,
   "id": "5797eaf1-4834-43b1-bb9b-5e37401985e3",
   "metadata": {},
   "outputs": [],
   "source": [
    "#### content_scores and collaborative_scores are both dicts of movieId \n",
    "\n",
    "def hybrid_score(content_scores, collaborative_scores, alpha=0.5):\n",
    "    # Combine weighted scores from both models\n",
    "    combined = {}\n",
    "    all_movie_ids = set(content_scores) | set(collaborative_scores)\n",
    "\n",
    "    for movie_id in all_movie_ids:\n",
    "        cbf = content_scores.get(movie_id, 0)\n",
    "        cf = collaborative_scores.get(movie_id, 0)\n",
    "        combined[movie_id] = alpha * cbf + (1 - alpha) * cf\n",
    "\n",
    "    return sorted(combined.items(), key=lambda x: -x[1])"
   ]
  },
  {
   "cell_type": "markdown",
   "id": "2edc96ac-2cf8-4beb-9c4e-e52b6d166ec5",
   "metadata": {},
   "source": [
    "# 2. Fine-Tuning Recommendations with User Feedback Loops"
   ]
  },
  {
   "cell_type": "code",
   "execution_count": 100,
   "id": "330b3388-1660-4bd0-8c98-77cd829706c1",
   "metadata": {},
   "outputs": [],
   "source": [
    "### 2. User Feedback Profile\n",
    "user_profile = {\"liked\": set(), \"disliked\": set()}\n",
    "\n",
    "def update_profile(movie_id, feedback):\n",
    "    if feedback == \"like\":\n",
    "        user_profile[\"liked\"].add(movie_id)\n",
    "        user_profile[\"disliked\"].discard(movie_id)\n",
    "    elif feedback == \"dislike\":\n",
    "        user_profile[\"disliked\"].add(movie_id)\n",
    "        user_profile[\"liked\"].discard(movie_id)\n",
    "\n",
    "def adjust_scores(base_scores):\n",
    "    for movie_id in base_scores:\n",
    "        if movie_id in user_profile[\"liked\"]:\n",
    "            base_scores[movie_id] *= 1.2  # boost\n",
    "        elif movie_id in user_profile[\"disliked\"]:\n",
    "            base_scores[movie_id] *= 0.5  # dampen\n",
    "    return base_scores"
   ]
  },
  {
   "cell_type": "code",
   "execution_count": 102,
   "id": "897e6ca8-87df-4547-94ba-a98853d036fe",
   "metadata": {},
   "outputs": [
    {
     "name": "stdout",
     "output_type": "stream",
     "text": [
      "✅ Hybrid model and feedback components saved successfully.\n"
     ]
    }
   ],
   "source": [
    "### Save the Models with joblib\n",
    "# Define save path\n",
    "save_dir = \"save path\"\n",
    "os.makedirs(save_dir, exist_ok=True)\n",
    "\n",
    "# Save all model components\n",
    "joblib.dump(hybrid_score, os.path.join(save_dir, \"hybrid_score_function.pkl\"))\n",
    "joblib.dump(update_profile, os.path.join(save_dir, \"update_profile_function.pkl\"))\n",
    "joblib.dump(adjust_scores, os.path.join(save_dir, \"adjust_scores_function.pkl\"))\n",
    "joblib.dump(user_profile, os.path.join(save_dir, \"user_profile.pkl\"))\n",
    "\n",
    "print(\"✅ Hybrid model and feedback components saved successfully.\")"
   ]
  },
  {
   "cell_type": "markdown",
   "id": "8b31728b-4d9f-4b82-9669-ccfc4d1ef388",
   "metadata": {},
   "source": [
    "# Compare and document results from all models."
   ]
  },
  {
   "cell_type": "code",
   "execution_count": 107,
   "id": "2dd2899c-be8e-40bb-ac2a-51cd67f6deca",
   "metadata": {},
   "outputs": [],
   "source": [
    "###  Evaluate Models ---- Evaluate and Compare All Models Using Precision@K\n",
    "### 1. Define precision_at_k() Function\n",
    "def precision_at_k(recommended_ids, relevant_ids, k=10):\n",
    "    recommended_k = recommended_ids[:k]\n",
    "    relevant_set = set(relevant_ids)\n",
    "    hits = sum([1 for movie_id in recommended_k if movie_id in relevant_set])\n",
    "    return hits / k"
   ]
  },
  {
   "cell_type": "code",
   "execution_count": 109,
   "id": "7aa6ae15-028c-43ba-a4cf-0c9e4abb5bc2",
   "metadata": {},
   "outputs": [],
   "source": [
    "### 2.Simulated Scores for Evaluation\n",
    "# Simulated model scores -- movieId: score\n",
    "content_scores = {1: 0.9, 2: 0.7, 3: 0.3, 4: 0.1}\n",
    "collaborative_scores = {1: 0.5, 2: 0.8, 5: 0.6}\n",
    "\n",
    "# Simulated user feedback \n",
    "user_profile = {\"liked\": {1, 2}, \"disliked\": {4}}\n",
    "\n",
    "# Relevant ground truth movies\n",
    "relevant_movies = [1, 2]"
   ]
  },
  {
   "cell_type": "code",
   "execution_count": 111,
   "id": "2438380d-529d-4bd7-8f23-f027924fc302",
   "metadata": {},
   "outputs": [],
   "source": [
    "### 3. Adjust Scores Using Feedback\n",
    "def adjust_scores(base_scores):\n",
    "    adjusted = base_scores.copy()\n",
    "    for movie_id in adjusted:\n",
    "        if movie_id in user_profile[\"liked\"]:\n",
    "            adjusted[movie_id] *= 1.2\n",
    "        elif movie_id in user_profile[\"disliked\"]:\n",
    "            adjusted[movie_id] *= 0.5\n",
    "    return adjusted\n",
    "\n",
    "adjusted_cb = adjust_scores(content_scores)\n",
    "adjusted_cf = adjust_scores(collaborative_scores)"
   ]
  },
  {
   "cell_type": "code",
   "execution_count": 113,
   "id": "7c08408e-0fe1-44a7-a1b6-14ad5217ddff",
   "metadata": {},
   "outputs": [
    {
     "data": {
      "text/plain": [
       "{1: 0.6, 2: 0.96, 5: 0.6}"
      ]
     },
     "execution_count": 113,
     "metadata": {},
     "output_type": "execute_result"
    }
   ],
   "source": [
    "adjusted_cb\n",
    "adjusted_cf"
   ]
  },
  {
   "cell_type": "code",
   "execution_count": 117,
   "id": "855186ba-3354-41b7-9098-17852cf4789f",
   "metadata": {},
   "outputs": [],
   "source": [
    "### 4. Hybrid Score Function\n",
    "def hybrid_score(content_scores, collaborative_scores, alpha=0.5):\n",
    "    combined = {}\n",
    "    all_movie_ids = set(content_scores) | set(collaborative_scores)\n",
    "    for movie_id in all_movie_ids:\n",
    "        cbf = content_scores.get(movie_id, 0)\n",
    "        cf = collaborative_scores.get(movie_id, 0)\n",
    "        combined[movie_id] = alpha * cbf + (1 - alpha) * cf\n",
    "    return sorted(combined.items(), key=lambda x: -x[1])"
   ]
  },
  {
   "cell_type": "code",
   "execution_count": 119,
   "id": "d31c5551-dd85-439a-914e-b100a5fa34cc",
   "metadata": {},
   "outputs": [],
   "source": [
    "### 5. Generate Top-K Recommendations for Each Model\n",
    "# Get top-K movie IDs for each model\n",
    "top_k = 5\n",
    "\n",
    "# Content-Based Filtering (CBF)\n",
    "cbf_recs = sorted(adjusted_cb.items(), key=lambda x: -x[1])\n",
    "cbf_top_ids = [movie_id for movie_id, _ in cbf_recs]\n",
    "\n",
    "# Collaborative Filtering (CF)\n",
    "cf_recs = sorted(adjusted_cf.items(), key=lambda x: -x[1])\n",
    "cf_top_ids = [movie_id for movie_id, _ in cf_recs]\n",
    "\n",
    "# Hybrid Model\n",
    "hybrid_recs = hybrid_score(adjusted_cb, adjusted_cf, alpha=0.5)\n",
    "hybrid_top_ids = [movie_id for movie_id, _ in hybrid_recs]"
   ]
  },
  {
   "cell_type": "code",
   "execution_count": 121,
   "id": "78b5057e-1cec-4e8d-9a33-9da13d237136",
   "metadata": {},
   "outputs": [
    {
     "name": "stdout",
     "output_type": "stream",
     "text": [
      "\n",
      "📊 Model Evaluation (Precision@5):\n",
      "🧠 Content-Based Filtering:     0.40\n",
      "👥 Collaborative Filtering:     0.40\n",
      "🔀 Hybrid Recommendation:       0.40\n"
     ]
    }
   ],
   "source": [
    "### 6. Evaluate and Compare Using Precision@K\n",
    "# Evaluate\n",
    "p_cbf = precision_at_k(cbf_top_ids, relevant_movies, k=top_k)\n",
    "p_cf = precision_at_k(cf_top_ids, relevant_movies, k=top_k)\n",
    "p_hybrid = precision_at_k(hybrid_top_ids, relevant_movies, k=top_k)\n",
    "\n",
    "# Print Results\n",
    "print(\"\\n📊 Model Evaluation (Precision@5):\")\n",
    "print(f\"🧠 Content-Based Filtering:     {p_cbf:.2f}\")\n",
    "print(f\"👥 Collaborative Filtering:     {p_cf:.2f}\")\n",
    "print(f\"🔀 Hybrid Recommendation:       {p_hybrid:.2f}\")"
   ]
  }
 ],
 "metadata": {
  "kernelspec": {
   "display_name": "Python 3 (ipykernel)",
   "language": "python",
   "name": "python3"
  },
  "language_info": {
   "codemirror_mode": {
    "name": "ipython",
    "version": 3
   },
   "file_extension": ".py",
   "mimetype": "text/x-python",
   "name": "python",
   "nbconvert_exporter": "python",
   "pygments_lexer": "ipython3",
   "version": "3.12.3"
  }
 },
 "nbformat": 4,
 "nbformat_minor": 5
}
